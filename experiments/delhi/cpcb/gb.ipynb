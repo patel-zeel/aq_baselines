{
 "cells": [
  {
   "cell_type": "code",
   "execution_count": 1,
   "metadata": {},
   "outputs": [],
   "source": [
    "from os.path import join\n",
    "import subprocess\n",
    "\n",
    "from itertools import product\n",
    "from tqdm import tqdm\n",
    "import yaml\n",
    "from addict import Dict\n",
    "import psutil\n",
    "from sklearn.ensemble import GradientBoostingRegressor\n",
    "from sklearn.preprocessing import StandardScaler\n",
    "from scipy.stats import norm\n",
    "from sklearn.pipeline import Pipeline\n",
    "import pandas as pd\n",
    "import numpy as np"
   ]
  },
  {
   "cell_type": "code",
   "execution_count": 2,
   "metadata": {},
   "outputs": [],
   "source": [
    "def rmse_fn(true_y, pred_y):\n",
    "    return np.sqrt(np.mean((true_y.ravel() - pred_y.ravel()) ** 2))\n",
    "\n",
    "def msll_fn(true_y, pred_y, pred_std_y):\n",
    "    return -norm.logpdf(true_y.ravel(), loc=pred_y.ravel(), scale=pred_std_y.ravel()).mean()"
   ]
  },
  {
   "cell_type": "code",
   "execution_count": 3,
   "metadata": {},
   "outputs": [],
   "source": [
    "N_ESTIMATORS = 1000\n",
    "\n",
    "REPO_ROOT = subprocess.check_output(\"git rev-parse --show-toplevel\".split()).decode().strip()\n",
    "CONFIG_ROOT = join(REPO_ROOT, \"config\")\n",
    "\n",
    "DATA_CONFIG = Dict(yaml.load(open(join(CONFIG_ROOT, \"data.yaml\"), \"r\"), Loader=yaml.FullLoader))\n",
    "\n",
    "EXP_PATH = join(DATA_CONFIG.artifacts_path, join(\"_\".join(sorted(DATA_CONFIG.features) + [DATA_CONFIG.start_date, DATA_CONFIG.end_date])))"
   ]
  },
  {
   "cell_type": "code",
   "execution_count": 4,
   "metadata": {},
   "outputs": [
    {
     "name": "stderr",
     "output_type": "stream",
     "text": [
      "seed: 2, fold: 3: : 12it [01:23,  6.99s/it]\n"
     ]
    }
   ],
   "source": [
    "result_df = pd.DataFrame(columns=[\"rmse\", \"seed\", \"fold\"])\n",
    "result_df.set_index([\"seed\", \"fold\"], inplace=True)\n",
    "\n",
    "def load_data(seed, fold):\n",
    "    f = lambda name: pd.read_csv(join(EXP_PATH, f\"seed_{seed}\", f\"fold_{fold}\", f\"{name}.csv\"))\n",
    "    train_x, train_y, test_x, test_y = map(f, [\"train_x\", \"train_y\", \"test_x\", \"test_y\"])\n",
    "    \n",
    "    if \"time\" in train_x:\n",
    "        train_x[\"time\"] = pd.to_datetime(train_x[\"time\"]).astype(int)/1e18\n",
    "        test_x[\"time\"] = pd.to_datetime(test_x[\"time\"]).astype(int)/1e18\n",
    "        \n",
    "    # print(train_x.shape, train_y.shape, test_x.shape, test_y.shape)\n",
    "    train_y = train_y.dropna()\n",
    "    test_y = test_y.dropna()\n",
    "    train_x = train_x.loc[train_y.index]\n",
    "    test_x = test_x.loc[test_y.index]\n",
    "    # print(\"reduced\", train_x.shape, train_y.shape, test_x.shape, test_y.shape)\n",
    "    \n",
    "    return map(lambda x: x.values.squeeze(), (train_x, train_y, test_x, test_y))\n",
    "    \n",
    "seeds = list(range(DATA_CONFIG.n_seeds))\n",
    "folds = list(range(DATA_CONFIG.n_folds))\n",
    "\n",
    "pbar = tqdm(product(seeds, folds))\n",
    "for seed, fold in pbar:\n",
    "    # log seed and fold in tqdm progress bar inplace\n",
    "    pbar.set_description(f\"seed: {seed}, fold: {fold}\")\n",
    "    \n",
    "    model = GradientBoostingRegressor(n_estimators=N_ESTIMATORS, random_state=seed)\n",
    "    train_x, train_y, test_x, test_y = load_data(seed, fold)\n",
    "    \n",
    "    model.fit(train_x, train_y)\n",
    "    pred_y = model.predict(test_x)\n",
    "    \n",
    "    result_df.loc[(seed, fold), \"rmse\"] = rmse_fn(test_y, pred_y)"
   ]
  },
  {
   "cell_type": "code",
   "execution_count": 5,
   "metadata": {},
   "outputs": [],
   "source": [
    "result_df.to_csv(join(EXP_PATH, f\"metrics_{model.__class__.__name__}.csv\"))"
   ]
  }
 ],
 "metadata": {
  "kernelspec": {
   "display_name": "base",
   "language": "python",
   "name": "python3"
  },
  "language_info": {
   "codemirror_mode": {
    "name": "ipython",
    "version": 3
   },
   "file_extension": ".py",
   "mimetype": "text/x-python",
   "name": "python",
   "nbconvert_exporter": "python",
   "pygments_lexer": "ipython3",
   "version": "3.9.5"
  },
  "orig_nbformat": 4
 },
 "nbformat": 4,
 "nbformat_minor": 2
}
